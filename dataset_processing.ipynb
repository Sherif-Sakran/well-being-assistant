{
 "cells": [
  {
   "cell_type": "code",
   "execution_count": 4,
   "id": "c8067ebe",
   "metadata": {},
   "outputs": [
    {
     "name": "stdout",
     "output_type": "stream",
     "text": [
      "Total dialogues: 100\n",
      "Successfully added labels to: extended_dataset copy_with_labels.json\n"
     ]
    }
   ],
   "source": [
    "import json\n",
    "\n",
    "def add_assistant_labels(file_path):\n",
    "    # Load the original JSON data\n",
    "    with open(file_path, 'r') as f:\n",
    "        data = json.load(f)\n",
    "\n",
    "    # Assume the JSON is a list of dialogues\n",
    "    dialogues_list = data[\"dialogues\"]\n",
    "    print(f\"Total dialogues: {len(dialogues_list)}\")\n",
    "    # Iterate through each dialogue and each turn\n",
    "    for dialogue in dialogues_list:\n",
    "        for turn in dialogue['turns']:\n",
    "            # Check if the turn belongs to the assistant\n",
    "            if turn['role'] == 'assistant':\n",
    "                # Add the 'emotion' and 'intent' fields if they don't exist\n",
    "                # This ensures the data is ready for fine-tuning\n",
    "                if 'emotion' not in turn:\n",
    "                    turn['emotion'] = 'calmness'\n",
    "                if 'intent' not in turn:\n",
    "                    turn['intent'] = 'general_chat_intent'\n",
    "\n",
    "    # Save the modified data back to a new file\n",
    "    output_file_path = file_path.replace('.json', '_with_labels.json')\n",
    "    with open(output_file_path, 'w') as f:\n",
    "        json.dump(data, f, indent=4)\n",
    "    \n",
    "    return output_file_path\n",
    "\n",
    "# Replace 'your_data.json' with the path to your file\n",
    "# For example: path = \"your_data.json\"\n",
    "path = \"extended_dataset copy.json\"\n",
    "new_file = add_assistant_labels(path)\n",
    "print(f\"Successfully added labels to: {new_file}\")"
   ]
  },
  {
   "cell_type": "code",
   "execution_count": null,
   "id": "b6910ca2",
   "metadata": {},
   "outputs": [],
   "source": []
  }
 ],
 "metadata": {
  "kernelspec": {
   "display_name": "Python 3",
   "language": "python",
   "name": "python3"
  },
  "language_info": {
   "codemirror_mode": {
    "name": "ipython",
    "version": 3
   },
   "file_extension": ".py",
   "mimetype": "text/x-python",
   "name": "python",
   "nbconvert_exporter": "python",
   "pygments_lexer": "ipython3",
   "version": "3.11.9"
  }
 },
 "nbformat": 4,
 "nbformat_minor": 5
}
